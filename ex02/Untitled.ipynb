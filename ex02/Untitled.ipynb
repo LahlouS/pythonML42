{
 "cells": [
  {
   "cell_type": "code",
   "execution_count": 1,
   "id": "0829e0a8",
   "metadata": {},
   "outputs": [
    {
     "name": "stdout",
     "output_type": "stream",
     "text": [
      "hello\n"
     ]
    }
   ],
   "source": [
    "print('hello')\n"
   ]
  },
  {
   "cell_type": "code",
   "execution_count": 2,
   "id": "9dd94cff",
   "metadata": {},
   "outputs": [
    {
     "name": "stdout",
     "output_type": "stream",
     "text": [
      "AssertionError: more than one argument are provided\n"
     ]
    }
   ],
   "source": [
    "import sys\n",
    "\n",
    "if len(sys.argv) == 2:\n",
    "\ttry:\n",
    "\t\tinteger = int(sys.argv[1])\n",
    "\t\tif not integer:\n",
    "\t\t\tprint(\"I'm zero\")\n",
    "\t\telif integer%2 == 0:\n",
    "\t\t\tprint(\"I'm even\")\n",
    "\t\telse:\n",
    "\t\t\tprint(\"I'm odd\")\n",
    "\texcept ValueError:\n",
    "\t\tprint(\"AssertionError: argument is not an integer\")\n",
    "elif len(sys.argv) > 2:\n",
    "\tprint(\"AssertionError: more than one argument are provided\")\n",
    "\n",
    "\n",
    "    "
   ]
  },
  {
   "cell_type": "code",
   "execution_count": null,
   "id": "7222b279",
   "metadata": {},
   "outputs": [],
   "source": []
  },
  {
   "cell_type": "code",
   "execution_count": 6,
   "id": "a5361034",
   "metadata": {},
   "outputs": [
    {
     "name": "stdout",
     "output_type": "stream",
     "text": [
      "I'm even\r\n"
     ]
    }
   ],
   "source": [
    "\n",
    "!python whois.py 56"
   ]
  },
  {
   "cell_type": "code",
   "execution_count": 4,
   "id": "6696cad4",
   "metadata": {},
   "outputs": [
    {
     "name": "stdout",
     "output_type": "stream",
     "text": [
      "Miniconda3-latest-Linux-x86_64.sh  Untitled.ipynb  whois.py\r\n"
     ]
    }
   ],
   "source": [
    "!ls"
   ]
  },
  {
   "cell_type": "code",
   "execution_count": 7,
   "id": "220a3408",
   "metadata": {},
   "outputs": [
    {
     "name": "stdout",
     "output_type": "stream",
     "text": [
      "Miniconda3-latest-Linux-x86_64.sh  Untitled.ipynb  whois.py\r\n"
     ]
    }
   ],
   "source": [
    "!ls\n"
   ]
  },
  {
   "cell_type": "code",
   "execution_count": 10,
   "id": "38464ae1",
   "metadata": {},
   "outputs": [],
   "source": [
    "!pycodestyle whois.py"
   ]
  },
  {
   "cell_type": "code",
   "execution_count": null,
   "id": "b3789d56",
   "metadata": {},
   "outputs": [],
   "source": []
  }
 ],
 "metadata": {
  "kernelspec": {
   "display_name": "Python 3 (ipykernel)",
   "language": "python",
   "name": "python3"
  },
  "language_info": {
   "codemirror_mode": {
    "name": "ipython",
    "version": 3
   },
   "file_extension": ".py",
   "mimetype": "text/x-python",
   "name": "python",
   "nbconvert_exporter": "python",
   "pygments_lexer": "ipython3",
   "version": "3.7.16"
  }
 },
 "nbformat": 4,
 "nbformat_minor": 5
}
